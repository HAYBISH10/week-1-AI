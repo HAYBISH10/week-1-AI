{
 "cells": [
  {
   "cell_type": "code",
   "execution_count": null,
   "id": "5c887d8e-a60c-4478-b472-d21498766999",
   "metadata": {},
   "outputs": [
    {
     "name": "stdout",
     "output_type": "stream",
     "text": [
      "👋 Hi, I’m CryptoBuddy — your AI-powered crypto sidekick! 🌟\n",
      "Ask me: ‘Which crypto is trending up?’, ‘What’s the most sustainable coin?’, or ‘Best for long-term growth?’\n",
      "⚠️ Disclaimer: Crypto is risky — always do your own research!\n"
     ]
    }
   ],
   "source": [
    "# 👋 CryptoBuddy: Your First AI-Powered Financial Sidekick!\n",
    "# ⚠️ Disclaimer: Crypto is risky — always do your own research!\n",
    "\n",
    "# Predefined Crypto Dataset\n",
    "crypto_db = {\n",
    "    \"Bitcoin\": {\n",
    "        \"price_trend\": \"rising\",\n",
    "        \"market_cap\": \"high\",\n",
    "        \"energy_use\": \"high\",\n",
    "        \"sustainability_score\": 3/10\n",
    "    },\n",
    "    \"Ethereum\": {\n",
    "        \"price_trend\": \"stable\",\n",
    "        \"market_cap\": \"high\",\n",
    "        \"energy_use\": \"medium\",\n",
    "        \"sustainability_score\": 6/10\n",
    "    },\n",
    "    \"Cardano\": {\n",
    "        \"price_trend\": \"rising\",\n",
    "        \"market_cap\": \"medium\",\n",
    "        \"energy_use\": \"low\",\n",
    "        \"sustainability_score\": 8/10\n",
    "    }\n",
    "}\n",
    "\n",
    "# Core Chatbot Logic\n",
    "def crypto_advisor(user_query):\n",
    "    query = user_query.lower()\n",
    "\n",
    "    # Check for sustainability\n",
    "    if \"sustainable\" in query or \"eco\" in query:\n",
    "        recommend = max(crypto_db, key=lambda x: crypto_db[x][\"sustainability_score\"])\n",
    "        return f\"🌱 Go with {recommend}! It’s eco-friendly with a strong sustainability score.\"\n",
    "\n",
    "    # Check for trending upwards\n",
    "    elif \"trending\" in query or \"growth\" in query:\n",
    "        trending = [coin for coin, data in crypto_db.items() if data[\"price_trend\"] == \"rising\"]\n",
    "        return f\"📈 These coins are trending up: {', '.join(trending)}.\"\n",
    "\n",
    "    # Check for long-term investment\n",
    "    elif \"long-term\" in query or \"best\" in query or \"buy\" in query:\n",
    "        for coin, data in crypto_db.items():\n",
    "            if data[\"price_trend\"] == \"rising\" and data[\"sustainability_score\"] > 7/10:\n",
    "                return f\"🚀 {coin} looks solid for long-term growth and sustainability!\"\n",
    "        return \"🤔 I couldn’t find a perfect match. Maybe diversify your portfolio?\"\n",
    "\n",
    "    else:\n",
    "        return \"❓ I didn’t understand that. Try asking about ‘sustainability’, ‘trending’, or ‘long-term growth’.\"\n",
    "\n",
    "# Run Chat Loop\n",
    "if __name__ == \"__main__\":\n",
    "    print(\"👋 Hi, I’m CryptoBuddy — your AI-powered crypto sidekick! 🌟\")\n",
    "    print(\"Ask me: ‘Which crypto is trending up?’, ‘What’s the most sustainable coin?’, or ‘Best for long-term growth?’\")\n",
    "    print(\"⚠️ Disclaimer: Crypto is risky — always do your own research!\")\n",
    "\n",
    "    while True:\n",
    "        user_query = input(\"\\nYou: \")\n",
    "        if user_query.lower() in [\"exit\", \"quit\", \"bye\"]:\n",
    "            print(\"CryptoBuddy: 👋 Goodbye! Stay safe and invest wisely.\")\n",
    "            break\n",
    "        response = crypto_advisor(user_query)\n",
    "        print(\"CryptoBuddy:\", response)\n"
   ]
  },
  {
   "cell_type": "code",
   "execution_count": null,
   "id": "9f1487c4-9d2f-4760-b354-4a95b8d68bbe",
   "metadata": {},
   "outputs": [],
   "source": []
  }
 ],
 "metadata": {
  "kernelspec": {
   "display_name": "Python 3 (ipykernel)",
   "language": "python",
   "name": "python3"
  },
  "language_info": {
   "codemirror_mode": {
    "name": "ipython",
    "version": 3
   },
   "file_extension": ".py",
   "mimetype": "text/x-python",
   "name": "python",
   "nbconvert_exporter": "python",
   "pygments_lexer": "ipython3",
   "version": "3.12.3"
  }
 },
 "nbformat": 4,
 "nbformat_minor": 5
}
